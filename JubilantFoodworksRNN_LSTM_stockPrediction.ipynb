{
  "nbformat": 4,
  "nbformat_minor": 0,
  "metadata": {
    "colab": {
      "name": "JubilantFoodworksRNN_LSTM_stockPrediction.ipynb",
      "provenance": []
    },
    "kernelspec": {
      "name": "python3",
      "display_name": "Python 3"
    },
    "language_info": {
      "name": "python"
    }
  },
  "cells": [
    {
      "cell_type": "markdown",
      "source": [
        "# NAME: Akshita Saxena\n",
        "# PRN : 20070243002\n",
        "# Company : Jubilant Foodworks"
      ],
      "metadata": {
        "id": "93KDibo2Sb65"
      }
    },
    {
      "cell_type": "markdown",
      "metadata": {
        "id": "9lmpYpDE-O9X"
      },
      "source": [
        "# Part 1- Data reading, exploration, data preprocessing"
      ]
    },
    {
      "cell_type": "code",
      "metadata": {
        "id": "mdXN8ivX98DB"
      },
      "source": [
        "#Import  the libraries\n",
        "import numpy as np\n",
        "import matplotlib.pyplot as plt\n",
        "import pandas as pd"
      ],
      "execution_count": null,
      "outputs": []
    },
    {
      "cell_type": "markdown",
      "metadata": {
        "id": "W5CXiogqncV8"
      },
      "source": [
        "## Loading Data"
      ]
    },
    {
      "cell_type": "code",
      "metadata": {
        "id": "yl8jWqMi-n1Y",
        "colab": {
          "base_uri": "https://localhost:8080/"
        },
        "outputId": "a8b399c9-e342-456a-a00b-2d109c7c83dc"
      },
      "source": [
        "#importing the training data\n",
        "data_train = pd.read_csv(\"/content/drive/MyDrive/ColabData/JubilantFoodworks/JUBLFOOD.NS_Train.csv\")\n",
        "training_set = data_train.iloc[:,1:2].values\n",
        "training_set"
      ],
      "execution_count": null,
      "outputs": [
        {
          "output_type": "execute_result",
          "data": {
            "text/plain": [
              "array([[ 875.125   ],\n",
              "       [ 889.950012],\n",
              "       [ 900.5     ],\n",
              "       [ 929.      ],\n",
              "       [ 929.5     ],\n",
              "       [ 955.      ],\n",
              "       [ 964.5     ],\n",
              "       [ 971.575012],\n",
              "       [ 962.5     ],\n",
              "       [ 973.5     ],\n",
              "       [ 964.5     ],\n",
              "       [ 950.5     ],\n",
              "       [ 945.549988],\n",
              "       [ 960.      ],\n",
              "       [ 974.974976],\n",
              "       [1077.5     ],\n",
              "       [1138.400024],\n",
              "       [1132.775024],\n",
              "       [1136.5     ],\n",
              "       [1112.      ],\n",
              "       [1082.275024],\n",
              "       [1074.      ],\n",
              "       [1026.724976],\n",
              "       [1000.      ],\n",
              "       [ 980.      ],\n",
              "       [ 902.5     ],\n",
              "       [1001.950012],\n",
              "       [1013.      ],\n",
              "       [ 965.025024],\n",
              "       [1007.525024],\n",
              "       [1027.      ],\n",
              "       [1021.25    ],\n",
              "       [1014.      ],\n",
              "       [ 983.150024],\n",
              "       [1009.349976],\n",
              "       [1008.450012],\n",
              "       [ 987.      ],\n",
              "       [ 989.650024],\n",
              "       [1009.275024],\n",
              "       [1010.5     ],\n",
              "       [1003.      ],\n",
              "       [1019.974976],\n",
              "       [1002.5     ],\n",
              "       [1003.      ],\n",
              "       [ 995.      ],\n",
              "       [ 995.5     ],\n",
              "       [1010.      ],\n",
              "       [1045.      ],\n",
              "       [1037.5     ],\n",
              "       [1023.5     ],\n",
              "       [1045.5     ],\n",
              "       [1075.5     ],\n",
              "       [1062.5     ],\n",
              "       [1051.5     ],\n",
              "       [1072.      ],\n",
              "       [1110.474976],\n",
              "       [1116.5     ],\n",
              "       [1149.974976],\n",
              "       [1183.974976],\n",
              "       [1172.5     ],\n",
              "       [1175.      ],\n",
              "       [1184.      ],\n",
              "       [1164.5     ],\n",
              "       [1165.      ],\n",
              "       [1167.5     ],\n",
              "       [1225.      ],\n",
              "       [1232.      ],\n",
              "       [1218.      ],\n",
              "       [1247.974976],\n",
              "       [1242.5     ],\n",
              "       [1236.5     ],\n",
              "       [1245.550049],\n",
              "       [1257.375   ],\n",
              "       [1252.75    ],\n",
              "       [1224.099976],\n",
              "       [1225.5     ],\n",
              "       [1245.      ],\n",
              "       [1221.199951],\n",
              "       [1230.      ],\n",
              "       [1269.5     ],\n",
              "       [1261.      ],\n",
              "       [1277.5     ],\n",
              "       [1274.699951],\n",
              "       [1274.949951],\n",
              "       [1291.5     ],\n",
              "       [1316.5     ],\n",
              "       [1295.      ],\n",
              "       [1280.      ],\n",
              "       [1239.      ],\n",
              "       [1242.5     ],\n",
              "       [1220.5     ],\n",
              "       [1197.5     ],\n",
              "       [1240.      ],\n",
              "       [1222.5     ],\n",
              "       [1256.5     ],\n",
              "       [1260.      ],\n",
              "       [1259.974976],\n",
              "       [1287.5     ],\n",
              "       [1335.      ],\n",
              "       [1332.550049],\n",
              "       [1350.      ],\n",
              "       [1310.5     ],\n",
              "       [1280.      ],\n",
              "       [1262.074951],\n",
              "       [1261.949951],\n",
              "       [1281.949951],\n",
              "       [1288.5     ],\n",
              "       [1325.      ],\n",
              "       [1329.875   ],\n",
              "       [1345.      ],\n",
              "       [1356.5     ],\n",
              "       [1359.      ],\n",
              "       [1337.5     ],\n",
              "       [1369.5     ],\n",
              "       [1385.      ],\n",
              "       [1394.5     ],\n",
              "       [1380.      ],\n",
              "       [1368.      ],\n",
              "       [1360.900024],\n",
              "       [1390.      ],\n",
              "       [1391.099976],\n",
              "       [1417.650024],\n",
              "       [1393.      ],\n",
              "       [1374.      ],\n",
              "       [1396.      ],\n",
              "       [1417.      ],\n",
              "       [1435.      ],\n",
              "       [1426.5     ],\n",
              "       [1419.      ],\n",
              "       [1378.949951],\n",
              "       [1424.900024],\n",
              "       [1412.      ],\n",
              "       [1439.900024],\n",
              "       [1429.      ],\n",
              "       [1408.699951],\n",
              "       [1424.949951],\n",
              "       [1435.      ],\n",
              "       [1419.150024],\n",
              "       [1424.      ],\n",
              "       [1491.150024],\n",
              "       [1451.75    ],\n",
              "       [1449.900024],\n",
              "       [1425.      ],\n",
              "       [1395.      ],\n",
              "       [1420.      ],\n",
              "       [1423.      ],\n",
              "       [1409.      ],\n",
              "       [1395.      ],\n",
              "       [1428.      ],\n",
              "       [1463.      ],\n",
              "       [1509.75    ],\n",
              "       [1491.449951],\n",
              "       [1505.      ],\n",
              "       [1498.      ],\n",
              "       [1520.949951],\n",
              "       [1508.800049],\n",
              "       [1504.      ],\n",
              "       [1519.800049],\n",
              "       [1518.      ],\n",
              "       [1522.75    ],\n",
              "       [1520.050049],\n",
              "       [1505.      ],\n",
              "       [1534.849976],\n",
              "       [1566.      ],\n",
              "       [1560.      ],\n",
              "       [1550.      ],\n",
              "       [1527.900024],\n",
              "       [1556.699951],\n",
              "       [1526.      ],\n",
              "       [1445.      ],\n",
              "       [1438.      ],\n",
              "       [1419.949951],\n",
              "       [1407.699951],\n",
              "       [1396.099976],\n",
              "       [1360.      ],\n",
              "       [1352.      ],\n",
              "       [1324.      ],\n",
              "       [1364.      ],\n",
              "       [1395.75    ],\n",
              "       [1350.      ],\n",
              "       [1302.      ],\n",
              "       [1264.      ],\n",
              "       [1269.5     ],\n",
              "       [1293.900024],\n",
              "       [1248.800049],\n",
              "       [1240.      ],\n",
              "       [1241.      ],\n",
              "       [1162.      ],\n",
              "       [1117.199951],\n",
              "       [1156.      ],\n",
              "       [1187.      ],\n",
              "       [1153.400024],\n",
              "       [1154.949951],\n",
              "       [1151.400024],\n",
              "       [1188.150024],\n",
              "       [1187.      ],\n",
              "       [1235.      ],\n",
              "       [1198.      ],\n",
              "       [1284.900024],\n",
              "       [1224.599976],\n",
              "       [1210.099976],\n",
              "       [1164.050049],\n",
              "       [1070.      ],\n",
              "       [1065.      ],\n",
              "       [1090.      ],\n",
              "       [1070.      ],\n",
              "       [1089.949951],\n",
              "       [1115.      ],\n",
              "       [1084.800049],\n",
              "       [1059.699951],\n",
              "       [1060.      ],\n",
              "       [1054.699951],\n",
              "       [1092.349976],\n",
              "       [1102.849976],\n",
              "       [1160.900024],\n",
              "       [1158.800049],\n",
              "       [1199.449951],\n",
              "       [1199.699951],\n",
              "       [1209.949951],\n",
              "       [1214.      ],\n",
              "       [1223.900024],\n",
              "       [1217.699951],\n",
              "       [1229.400024],\n",
              "       [1244.      ],\n",
              "       [1248.099976],\n",
              "       [1234.      ],\n",
              "       [1264.849976],\n",
              "       [1321.      ],\n",
              "       [1320.      ],\n",
              "       [1308.5     ],\n",
              "       [1304.099976],\n",
              "       [1212.550049],\n",
              "       [1185.      ],\n",
              "       [1265.5     ],\n",
              "       [1250.      ],\n",
              "       [1244.      ],\n",
              "       [1259.      ],\n",
              "       [1270.      ],\n",
              "       [1304.      ],\n",
              "       [1335.      ],\n",
              "       [1358.800049],\n",
              "       [1321.75    ],\n",
              "       [1206.099976],\n",
              "       [1249.900024],\n",
              "       [1245.      ],\n",
              "       [1253.699951],\n",
              "       [1256.599976],\n",
              "       [1244.      ],\n",
              "       [1241.      ],\n",
              "       [1244.5     ],\n",
              "       [1224.5     ],\n",
              "       [1226.      ],\n",
              "       [1249.      ],\n",
              "       [1236.849976],\n",
              "       [1240.      ],\n",
              "       [1235.      ],\n",
              "       [1223.      ],\n",
              "       [1238.900024],\n",
              "       [1220.      ],\n",
              "       [1222.      ],\n",
              "       [1218.      ],\n",
              "       [1170.      ],\n",
              "       [1167.150024],\n",
              "       [1177.      ],\n",
              "       [1185.900024],\n",
              "       [1197.400024],\n",
              "       [1198.900024],\n",
              "       [1213.      ],\n",
              "       [1230.      ],\n",
              "       [1269.599976],\n",
              "       [1344.      ],\n",
              "       [1355.      ],\n",
              "       [1340.      ],\n",
              "       [1297.      ],\n",
              "       [1335.      ],\n",
              "       [1346.5     ],\n",
              "       [1327.      ],\n",
              "       [1280.      ],\n",
              "       [1312.400024],\n",
              "       [1300.050049],\n",
              "       [1340.150024],\n",
              "       [1341.099976],\n",
              "       [1295.      ],\n",
              "       [1305.      ],\n",
              "       [1302.      ],\n",
              "       [1263.      ],\n",
              "       [1287.      ],\n",
              "       [1281.      ],\n",
              "       [1277.      ],\n",
              "       [1276.      ],\n",
              "       [1289.900024],\n",
              "       [1339.      ],\n",
              "       [1327.199951],\n",
              "       [1347.      ],\n",
              "       [1380.099976],\n",
              "       [1355.      ],\n",
              "       [1322.      ],\n",
              "       [1349.75    ],\n",
              "       [1356.400024],\n",
              "       [1404.      ],\n",
              "       [1406.      ],\n",
              "       [1405.900024],\n",
              "       [1432.      ],\n",
              "       [1461.      ],\n",
              "       [1466.      ],\n",
              "       [1444.599976],\n",
              "       [1456.      ],\n",
              "       [1458.      ],\n",
              "       [1448.449951],\n",
              "       [1428.199951],\n",
              "       [1437.      ],\n",
              "       [1424.900024],\n",
              "       [1428.949951],\n",
              "       [1428.      ],\n",
              "       [1409.      ],\n",
              "       [1378.400024],\n",
              "       [1366.      ],\n",
              "       [1377.      ],\n",
              "       [1387.      ],\n",
              "       [1340.75    ],\n",
              "       [1323.      ],\n",
              "       [1320.      ],\n",
              "       [1327.      ],\n",
              "       [1336.150024],\n",
              "       [1341.599976],\n",
              "       [1329.699951],\n",
              "       [1345.949951],\n",
              "       [1317.      ],\n",
              "       [1305.      ],\n",
              "       [1272.      ],\n",
              "       [1266.      ],\n",
              "       [1278.800049],\n",
              "       [1269.949951],\n",
              "       [1243.699951],\n",
              "       [1205.699951],\n",
              "       [1246.      ],\n",
              "       [1251.      ],\n",
              "       [1313.      ],\n",
              "       [1315.      ],\n",
              "       [1309.800049],\n",
              "       [1310.      ],\n",
              "       [1302.150024],\n",
              "       [1296.      ],\n",
              "       [1337.699951],\n",
              "       [1336.      ],\n",
              "       [1329.      ],\n",
              "       [1327.650024],\n",
              "       [1306.099976],\n",
              "       [1343.      ],\n",
              "       [1362.5     ],\n",
              "       [1337.      ],\n",
              "       [1322.400024],\n",
              "       [1356.5     ],\n",
              "       [1322.900024],\n",
              "       [1328.599976],\n",
              "       [1321.      ],\n",
              "       [1311.949951],\n",
              "       [1280.      ],\n",
              "       [1279.699951],\n",
              "       [1259.      ],\n",
              "       [1279.      ],\n",
              "       [1255.      ],\n",
              "       [1255.      ],\n",
              "       [1264.      ],\n",
              "       [1251.199951],\n",
              "       [1265.      ],\n",
              "       [1240.      ],\n",
              "       [1250.      ],\n",
              "       [1240.25    ],\n",
              "       [1262.099976],\n",
              "       [1268.      ],\n",
              "       [1232.      ],\n",
              "       [1239.099976],\n",
              "       [1220.      ],\n",
              "       [1237.5     ],\n",
              "       [1224.699951],\n",
              "       [1209.599976],\n",
              "       [1210.      ],\n",
              "       [1270.5     ],\n",
              "       [1244.849976],\n",
              "       [1249.      ],\n",
              "       [1202.      ],\n",
              "       [1205.      ],\n",
              "       [1237.699951],\n",
              "       [1153.      ],\n",
              "       [1168.      ],\n",
              "       [1211.800049],\n",
              "       [1214.      ],\n",
              "       [1195.849976],\n",
              "       [1194.400024],\n",
              "       [1180.5     ],\n",
              "       [1172.5     ],\n",
              "       [1185.      ],\n",
              "       [1181.199951],\n",
              "       [1163.150024],\n",
              "       [1166.      ],\n",
              "       [1183.      ],\n",
              "       [1148.699951],\n",
              "       [1124.      ],\n",
              "       [1124.      ],\n",
              "       [1158.349976],\n",
              "       [1145.      ],\n",
              "       [1130.      ],\n",
              "       [1105.599976],\n",
              "       [1165.      ],\n",
              "       [1182.      ],\n",
              "       [1204.900024],\n",
              "       [1175.      ],\n",
              "       [1204.849976],\n",
              "       [1188.      ],\n",
              "       [1180.      ],\n",
              "       [1200.550049],\n",
              "       [1202.25    ],\n",
              "       [1200.      ],\n",
              "       [1213.      ],\n",
              "       [1261.5     ],\n",
              "       [1230.      ],\n",
              "       [1239.900024],\n",
              "       [1271.949951],\n",
              "       [1253.      ],\n",
              "       [1239.      ],\n",
              "       [1243.      ],\n",
              "       [1395.449951],\n",
              "       [1437.150024],\n",
              "       [1455.      ],\n",
              "       [1398.349976],\n",
              "       [1408.      ],\n",
              "       [1369.5     ],\n",
              "       [1360.5     ],\n",
              "       [1322.      ],\n",
              "       [1330.      ],\n",
              "       [1280.      ],\n",
              "       [1319.900024],\n",
              "       [1292.449951],\n",
              "       [1330.300049],\n",
              "       [1310.      ],\n",
              "       [1326.      ],\n",
              "       [1329.800049],\n",
              "       [1308.      ],\n",
              "       [1344.050049],\n",
              "       [1356.900024],\n",
              "       [1470.      ],\n",
              "       [1546.400024],\n",
              "       [1538.      ],\n",
              "       [1528.      ],\n",
              "       [1542.      ],\n",
              "       [1570.      ],\n",
              "       [1564.      ],\n",
              "       [1595.300049],\n",
              "       [1581.900024],\n",
              "       [1555.      ],\n",
              "       [1571.      ],\n",
              "       [1561.      ],\n",
              "       [1616.949951],\n",
              "       [1607.      ],\n",
              "       [1623.300049],\n",
              "       [1584.849976],\n",
              "       [1620.      ],\n",
              "       [1622.75    ],\n",
              "       [1590.      ],\n",
              "       [1591.300049],\n",
              "       [1580.099976],\n",
              "       [1589.400024],\n",
              "       [1571.      ],\n",
              "       [1608.      ],\n",
              "       [1629.550049],\n",
              "       [1630.      ],\n",
              "       [1619.900024],\n",
              "       [1615.      ],\n",
              "       [1595.550049],\n",
              "       [1575.      ],\n",
              "       [1579.800049],\n",
              "       [1585.      ],\n",
              "       [1579.      ],\n",
              "       [1585.      ],\n",
              "       [1564.      ],\n",
              "       [1584.      ],\n",
              "       [1600.25    ],\n",
              "       [1630.      ],\n",
              "       [1598.      ],\n",
              "       [1585.      ],\n",
              "       [1572.      ],\n",
              "       [1607.900024],\n",
              "       [1579.      ],\n",
              "       [1579.650024],\n",
              "       [1573.      ],\n",
              "       [1602.099976],\n",
              "       [1631.400024]])"
            ]
          },
          "metadata": {},
          "execution_count": 3
        }
      ]
    },
    {
      "cell_type": "code",
      "metadata": {
        "id": "V89YAmPNLM7-",
        "colab": {
          "base_uri": "https://localhost:8080/"
        },
        "outputId": "b445bf0d-4ec4-40a8-f472-261ed801e008"
      },
      "source": [
        "dataset_test1 = pd.read_csv('/content/drive/MyDrive/ColabData/JubilantFoodworks/JUBLFOOD.NS_Test1.csv')\n",
        "real_stock_values1 = dataset_test1.iloc[:,1:2].values\n",
        "real_stock_values1"
      ],
      "execution_count": null,
      "outputs": [
        {
          "output_type": "execute_result",
          "data": {
            "text/plain": [
              "array([[1656.949951],\n",
              "       [1665.      ],\n",
              "       [1681.      ],\n",
              "       [1670.300049],\n",
              "       [1688.      ],\n",
              "       [1689.25    ],\n",
              "       [1738.      ],\n",
              "       [1715.      ],\n",
              "       [1730.800049],\n",
              "       [1732.      ],\n",
              "       [1720.      ],\n",
              "       [1758.      ],\n",
              "       [1746.699951],\n",
              "       [1777.900024],\n",
              "       [1758.949951],\n",
              "       [1768.      ],\n",
              "       [1770.050049],\n",
              "       [1785.      ],\n",
              "       [1799.      ],\n",
              "       [1815.      ],\n",
              "       [1762.      ],\n",
              "       [1770.      ],\n",
              "       [1824.      ],\n",
              "       [1876.      ],\n",
              "       [1954.      ],\n",
              "       [1937.      ],\n",
              "       [1942.      ],\n",
              "       [1869.75    ],\n",
              "       [1910.650024],\n",
              "       [1865.      ],\n",
              "       [1834.900024],\n",
              "       [1823.599976],\n",
              "       [1846.550049],\n",
              "       [1819.949951],\n",
              "       [1833.      ],\n",
              "       [1845.      ],\n",
              "       [1898.75    ],\n",
              "       [1876.699951],\n",
              "       [1870.      ],\n",
              "       [1838.      ],\n",
              "       [1849.      ],\n",
              "       [1825.      ],\n",
              "       [1787.      ],\n",
              "       [1670.      ],\n",
              "       [1704.      ],\n",
              "       [1656.      ],\n",
              "       [1628.      ],\n",
              "       [1640.      ],\n",
              "       [1650.599976],\n",
              "       [1540.      ],\n",
              "       [1326.699951],\n",
              "       [1395.      ],\n",
              "       [1440.      ],\n",
              "       [1310.      ],\n",
              "       [1148.      ],\n",
              "       [1222.      ],\n",
              "       [1324.050049],\n",
              "       [1279.      ],\n",
              "       [1180.      ],\n",
              "       [1310.      ],\n",
              "       [1350.      ],\n",
              "       [1350.      ]])"
            ]
          },
          "metadata": {},
          "execution_count": 4
        }
      ]
    },
    {
      "cell_type": "code",
      "metadata": {
        "id": "cIzb3Wy0eMBA",
        "colab": {
          "base_uri": "https://localhost:8080/"
        },
        "outputId": "3efb9fca-32d2-4744-e18d-dd698fd745f0"
      },
      "source": [
        "dataset_test2 = pd.read_csv('/content/drive/MyDrive/ColabData/JubilantFoodworks/JUBLFOOD.NS_Test2.csv')\n",
        "real_stock_values2 = dataset_test2.iloc[:,1:2].values\n",
        "real_stock_values2"
      ],
      "execution_count": null,
      "outputs": [
        {
          "output_type": "execute_result",
          "data": {
            "text/plain": [
              "array([[1450.      ],\n",
              "       [1385.      ],\n",
              "       [1350.      ],\n",
              "       [1391.949951],\n",
              "       [1418.      ],\n",
              "       [1410.      ],\n",
              "       [1390.      ],\n",
              "       [1400.      ],\n",
              "       [1550.      ],\n",
              "       [1530.      ],\n",
              "       [1489.900024],\n",
              "       [1500.      ],\n",
              "       [1511.699951],\n",
              "       [1484.      ],\n",
              "       [1480.      ],\n",
              "       [1488.      ],\n",
              "       [1526.      ],\n",
              "       [1576.      ],\n",
              "       [1550.      ],\n",
              "       [1555.050049],\n",
              "       [1507.      ],\n",
              "       [1542.300049],\n",
              "       [1560.      ],\n",
              "       [1577.      ],\n",
              "       [1575.      ],\n",
              "       [1662.949951],\n",
              "       [1661.      ],\n",
              "       [1689.      ],\n",
              "       [1663.      ],\n",
              "       [1550.      ],\n",
              "       [1510.      ],\n",
              "       [1575.099976],\n",
              "       [1567.800049],\n",
              "       [1622.25    ],\n",
              "       [1689.199951],\n",
              "       [1682.150024],\n",
              "       [1685.      ],\n",
              "       [1665.      ],\n",
              "       [1667.      ],\n",
              "       [1715.      ],\n",
              "       [1690.      ],\n",
              "       [1688.      ],\n",
              "       [1690.099976],\n",
              "       [1680.050049],\n",
              "       [1678.      ],\n",
              "       [1706.5     ],\n",
              "       [1630.      ],\n",
              "       [1729.949951],\n",
              "       [1730.      ],\n",
              "       [1691.      ],\n",
              "       [1645.      ],\n",
              "       [1681.      ],\n",
              "       [1692.      ],\n",
              "       [1695.      ],\n",
              "       [1770.699951],\n",
              "       [1745.      ],\n",
              "       [1786.949951],\n",
              "       [1759.849976]])"
            ]
          },
          "metadata": {},
          "execution_count": 5
        }
      ]
    },
    {
      "cell_type": "markdown",
      "metadata": {
        "id": "XW0TUUDXSyoo"
      },
      "source": [
        "## Stocks Exploration"
      ]
    },
    {
      "cell_type": "code",
      "metadata": {
        "id": "mS1AmqILjluQ"
      },
      "source": [
        "first_half = data_train.head(246)\n",
        "second_half = data_train.tail(242)"
      ],
      "execution_count": null,
      "outputs": []
    },
    {
      "cell_type": "code",
      "metadata": {
        "colab": {
          "base_uri": "https://localhost:8080/",
          "height": 323
        },
        "id": "4baxkewXiBdP",
        "outputId": "c96578c7-bc68-49f6-cacd-da9771588ebb"
      },
      "source": [
        "plt.plot(first_half.Open,color = 'red', label = '2018 stocks'), plt.plot(second_half.Open,color = 'green', label = '2019 stocks')\n",
        "plt.legend(loc = 'lower right',fontsize = 12)\n",
        "plt.title('Training Data Jan 2018- Dec 2019', fontsize = 22)\n",
        "plt.xlabel('Days',fontsize = 16)\n",
        "plt.ylabel('Opening value', fontsize = 16)"
      ],
      "execution_count": null,
      "outputs": [
        {
          "output_type": "execute_result",
          "data": {
            "text/plain": [
              "Text(0, 0.5, 'Opening value')"
            ]
          },
          "metadata": {},
          "execution_count": 7
        },
        {
          "output_type": "display_data",
          "data": {
            "image/png": "[encoded data removed]",
            "text/plain": [
              "<Figure size 432x288 with 1 Axes>"
            ]
          },
          "metadata": {
            "needs_background": "light"
          }
        }
      ]
    },
    {
      "cell_type": "code",
      "source": [
        "fig, (ax1,ax2) = plt.subplots(1,2,figsize=(12,6), sharey='row') \n",
        "fig.suptitle('Test set Opening value of stocks Jan-Mar & Apr-Jun 2020', size = 22)\n",
        "ax1.plot(dataset_test1.Open, color = 'crimson', label = 'Jan-Mar 2020')\n",
        "ax1.legend(loc = 'best', fontsize = 14)\n",
        "ax2.plot(dataset_test2.Open,color = 'green', label = 'Apr-Jun 2020')\n",
        "plt.legend(loc = 'best', fontsize = 14)\n",
        "plt.show()"
      ],
      "metadata": {
        "colab": {
          "base_uri": "https://localhost:8080/",
          "height": 417
        },
        "id": "VLgJh5Wwb__A",
        "outputId": "fa043d54-bca7-4f75-b8ed-174aa299aec2"
      },
      "execution_count": null,
      "outputs": [
        {
          "output_type": "display_data",
          "data": {
            "image/png": "[encoded data removed]",
            "text/plain": [
              "<Figure size 864x432 with 2 Axes>"
            ]
          },
          "metadata": {
            "needs_background": "light"
          }
        }
      ]
    },
    {
      "cell_type": "code",
      "metadata": {
        "colab": {
          "base_uri": "https://localhost:8080/",
          "height": 323
        },
        "id": "EU3lPjigUU7P",
        "outputId": "a56a8a3e-78db-48aa-a798-a5a22903ab5d"
      },
      "source": [
        "plt.plot(first_half.Volume,color = 'red', label = '2018 stock volume'), plt.plot(second_half.Volume,color = 'green', label = '2019 stocks volume')\n",
        "plt.legend(loc = 'best',fontsize = 12)\n",
        "plt.title('Training Data Volume Jan 2018- Dec 2019', fontsize = 22)\n",
        "plt.xlabel('Days',fontsize = 16)\n",
        "plt.ylabel('Volume', fontsize = 16)"
      ],
      "execution_count": null,
      "outputs": [
        {
          "output_type": "execute_result",
          "data": {
            "text/plain": [
              "Text(0, 0.5, 'Volume')"
            ]
          },
          "metadata": {},
          "execution_count": 9
        },
        {
          "output_type": "display_data",
          "data": {
            "image/png": "[encoded data removed]",
            "text/plain": [
              "<Figure size 432x288 with 1 Axes>"
            ]
          },
          "metadata": {
            "needs_background": "light"
          }
        }
      ]
    },
    {
      "cell_type": "code",
      "source": [
        "fig, (ax1,ax2) = plt.subplots(1,2,figsize=(12,6), sharey='row') \n",
        "fig.suptitle('Test set Volume of stocks Jan-Mar & Apr-Jun 2020', size = 22)\n",
        "ax1.plot(dataset_test1.Volume, color = 'crimson', label = 'Jan-Mar 2020')\n",
        "ax1.legend(loc = 'best', fontsize = 14)\n",
        "ax2.plot(dataset_test2.Volume,color = 'green', label = 'Apr-Jun 2020')\n",
        "plt.legend(loc = 'best', fontsize = 14)\n",
        "plt.show()"
      ],
      "metadata": {
        "colab": {
          "base_uri": "https://localhost:8080/",
          "height": 417
        },
        "id": "GLot0OtSMb6V",
        "outputId": "f7e381b8-d6f8-4e6c-a1b0-540426281e80"
      },
      "execution_count": null,
      "outputs": [
        {
          "output_type": "display_data",
          "data": {
            "image/png": "[encoded data removed]",
            "text/plain": [
              "<Figure size 864x432 with 2 Axes>"
            ]
          },
          "metadata": {
            "needs_background": "light"
          }
        }
      ]
    },
    {
      "cell_type": "markdown",
      "metadata": {
        "id": "RWawDAJVn62W"
      },
      "source": [
        "## Data Preprocessing"
      ]
    },
    {
      "cell_type": "code",
      "metadata": {
        "id": "5VnsFXJx_JGH",
        "colab": {
          "base_uri": "https://localhost:8080/"
        },
        "outputId": "a915b80a-efd6-412b-f699-a6cde87bef92"
      },
      "source": [
        "# Feature Scaling using min max scaler\n",
        "from sklearn.preprocessing import MinMaxScaler\n",
        "sc = MinMaxScaler(feature_range = (0,1))\n",
        "training_set_scaled = sc.fit_transform(training_set)\n",
        "training_set_scaled"
      ],
      "execution_count": null,
      "outputs": [
        {
          "output_type": "execute_result",
          "data": {
            "text/plain": [
              "array([[0.        ],\n",
              "       [0.01960267],\n",
              "       [0.03355261],\n",
              "       [0.07123731],\n",
              "       [0.07189845],\n",
              "       [0.10561634],\n",
              "       [0.11817791],\n",
              "       [0.12753299],\n",
              "       [0.11553337],\n",
              "       [0.13007834],\n",
              "       [0.11817791],\n",
              "       [0.09966612],\n",
              "       [0.09312087],\n",
              "       [0.11222769],\n",
              "       [0.13202866],\n",
              "       [0.26759445],\n",
              "       [0.34812074],\n",
              "       [0.34068297],\n",
              "       [0.3456084 ],\n",
              "       [0.31321278],\n",
              "       [0.27390832],\n",
              "       [0.26296651],\n",
              "       [0.20045615],\n",
              "       [0.1651185 ],\n",
              "       [0.1386731 ],\n",
              "       [0.03619715],\n",
              "       [0.16769695],\n",
              "       [0.18230802],\n",
              "       [0.11887213],\n",
              "       [0.17506862],\n",
              "       [0.2008198 ],\n",
              "       [0.19321675],\n",
              "       [0.18363029],\n",
              "       [0.14283828],\n",
              "       [0.1774817 ],\n",
              "       [0.1762917 ],\n",
              "       [0.14792899],\n",
              "       [0.15143304],\n",
              "       [0.17738259],\n",
              "       [0.17900234],\n",
              "       [0.16908531],\n",
              "       [0.19153082],\n",
              "       [0.16842418],\n",
              "       [0.16908531],\n",
              "       [0.15850715],\n",
              "       [0.15916829],\n",
              "       [0.17834121],\n",
              "       [0.22462067],\n",
              "       [0.21470364],\n",
              "       [0.19619186],\n",
              "       [0.2252818 ],\n",
              "       [0.26494991],\n",
              "       [0.2477604 ],\n",
              "       [0.23321542],\n",
              "       [0.26032196],\n",
              "       [0.31119628],\n",
              "       [0.31916299],\n",
              "       [0.36342596],\n",
              "       [0.40838315],\n",
              "       [0.39321013],\n",
              "       [0.39651581],\n",
              "       [0.40841624],\n",
              "       [0.38263197],\n",
              "       [0.3832931 ],\n",
              "       [0.38659878],\n",
              "       [0.46262932],\n",
              "       [0.47188521],\n",
              "       [0.45337343],\n",
              "       [0.49300845],\n",
              "       [0.48576905],\n",
              "       [0.47783543],\n",
              "       [0.48980204],\n",
              "       [0.50543782],\n",
              "       [0.49932232],\n",
              "       [0.46143924],\n",
              "       [0.46329046],\n",
              "       [0.48907473],\n",
              "       [0.45760463],\n",
              "       [0.46924067],\n",
              "       [0.52147035],\n",
              "       [0.51023105],\n",
              "       [0.53204851],\n",
              "       [0.52834609],\n",
              "       [0.52867666],\n",
              "       [0.55056029],\n",
              "       [0.58361705],\n",
              "       [0.55518824],\n",
              "       [0.53535419],\n",
              "       [0.4811411 ],\n",
              "       [0.48576905],\n",
              "       [0.4566791 ],\n",
              "       [0.42626689],\n",
              "       [0.48246337],\n",
              "       [0.45932364],\n",
              "       [0.50428083],\n",
              "       [0.50890878],\n",
              "       [0.50887569],\n",
              "       [0.54527121],\n",
              "       [0.60807905],\n",
              "       [0.60483956],\n",
              "       [0.62791311],\n",
              "       [0.57568343],\n",
              "       [0.53535419],\n",
              "       [0.51165243],\n",
              "       [0.51148714],\n",
              "       [0.53793255],\n",
              "       [0.54659348],\n",
              "       [0.59485635],\n",
              "       [0.60130242],\n",
              "       [0.62130176],\n",
              "       [0.63650786],\n",
              "       [0.63981354],\n",
              "       [0.61138473],\n",
              "       [0.65369738],\n",
              "       [0.67419257],\n",
              "       [0.68675414],\n",
              "       [0.66758122],\n",
              "       [0.65171397],\n",
              "       [0.64232588],\n",
              "       [0.68080392],\n",
              "       [0.68225838],\n",
              "       [0.71736472],\n",
              "       [0.68477073],\n",
              "       [0.65964759],\n",
              "       [0.68873754],\n",
              "       [0.71650522],\n",
              "       [0.74030608],\n",
              "       [0.72906678],\n",
              "       [0.71914976],\n",
              "       [0.66619277],\n",
              "       [0.72695118],\n",
              "       [0.70989387],\n",
              "       [0.74678524],\n",
              "       [0.73237246],\n",
              "       [0.70553031],\n",
              "       [0.7270172 ],\n",
              "       [0.74030608],\n",
              "       [0.71934813],\n",
              "       [0.72576111],\n",
              "       [0.81455159],\n",
              "       [0.76245411],\n",
              "       [0.76000794],\n",
              "       [0.72708338],\n",
              "       [0.68741527],\n",
              "       [0.72047203],\n",
              "       [0.72443884],\n",
              "       [0.70592705],\n",
              "       [0.68741527],\n",
              "       [0.73105019],\n",
              "       [0.77732965],\n",
              "       [0.83914579],\n",
              "       [0.81494818],\n",
              "       [0.832865  ],\n",
              "       [0.82360911],\n",
              "       [0.85395515],\n",
              "       [0.83788969],\n",
              "       [0.83154273],\n",
              "       [0.85243467],\n",
              "       [0.85005452],\n",
              "       [0.8563353 ],\n",
              "       [0.85276524],\n",
              "       [0.832865  ],\n",
              "       [0.87233474],\n",
              "       [0.91352349],\n",
              "       [0.90558987],\n",
              "       [0.89236717],\n",
              "       [0.86314502],\n",
              "       [0.90122631],\n",
              "       [0.86063268],\n",
              "       [0.75352879],\n",
              "       [0.74427289],\n",
              "       [0.72040585],\n",
              "       [0.70420804],\n",
              "       [0.68886974],\n",
              "       [0.64113581],\n",
              "       [0.63055765],\n",
              "       [0.59353408],\n",
              "       [0.64642489],\n",
              "       [0.68840697],\n",
              "       [0.62791311],\n",
              "       [0.56444413],\n",
              "       [0.51419786],\n",
              "       [0.52147035],\n",
              "       [0.55373378],\n",
              "       [0.49409942],\n",
              "       [0.48246337],\n",
              "       [0.48378564],\n",
              "       [0.37932629],\n",
              "       [0.32008852],\n",
              "       [0.37139267],\n",
              "       [0.41238305],\n",
              "       [0.3679548 ],\n",
              "       [0.37000422],\n",
              "       [0.36531026],\n",
              "       [0.41390369],\n",
              "       [0.41238305],\n",
              "       [0.47585202],\n",
              "       [0.42692802],\n",
              "       [0.54183334],\n",
              "       [0.46210038],\n",
              "       [0.44292746],\n",
              "       [0.38203701],\n",
              "       [0.25767742],\n",
              "       [0.25106607],\n",
              "       [0.28412283],\n",
              "       [0.25767742],\n",
              "       [0.28405665],\n",
              "       [0.31717959],\n",
              "       [0.27724709],\n",
              "       [0.24405798],\n",
              "       [0.24445472],\n",
              "       [0.23744662],\n",
              "       [0.28723013],\n",
              "       [0.30111397],\n",
              "       [0.37787183],\n",
              "       [0.37509509],\n",
              "       [0.42884525],\n",
              "       [0.42917582],\n",
              "       [0.44272909],\n",
              "       [0.44808435],\n",
              "       [0.46117485],\n",
              "       [0.45297668],\n",
              "       [0.46844734],\n",
              "       [0.48775246],\n",
              "       [0.49317373],\n",
              "       [0.47452975],\n",
              "       [0.51532176],\n",
              "       [0.58956727],\n",
              "       [0.588245  ],\n",
              "       [0.57303889],\n",
              "       [0.56722087],\n",
              "       [0.44616712],\n",
              "       [0.40973851],\n",
              "       [0.51618127],\n",
              "       [0.49568608],\n",
              "       [0.48775246],\n",
              "       [0.50758651],\n",
              "       [0.52213148],\n",
              "       [0.56708867],\n",
              "       [0.60807905],\n",
              "       [0.63954915],\n",
              "       [0.59055897],\n",
              "       [0.43763838],\n",
              "       [0.49555388],\n",
              "       [0.48907473],\n",
              "       [0.50057841],\n",
              "       [0.50441303],\n",
              "       [0.48775246],\n",
              "       [0.48378564],\n",
              "       [0.48841359],\n",
              "       [0.46196818],\n",
              "       [0.46395159],\n",
              "       [0.49436381],\n",
              "       [0.47829819],\n",
              "       [0.48246337],\n",
              "       [0.47585202],\n",
              "       [0.45998478],\n",
              "       [0.48100891],\n",
              "       [0.45601797],\n",
              "       [0.45866251],\n",
              "       [0.45337343],\n",
              "       [0.38990445],\n",
              "       [0.38613601],\n",
              "       [0.39916035],\n",
              "       [0.41092858],\n",
              "       [0.42613469],\n",
              "       [0.4281181 ],\n",
              "       [0.44676208],\n",
              "       [0.46924067],\n",
              "       [0.52160254],\n",
              "       [0.61997949],\n",
              "       [0.63452446],\n",
              "       [0.6146904 ],\n",
              "       [0.55783278],\n",
              "       [0.60807905],\n",
              "       [0.62328516],\n",
              "       [0.59750089],\n",
              "       [0.53535419],\n",
              "       [0.57819578],\n",
              "       [0.56186577],\n",
              "       [0.61488878],\n",
              "       [0.61614487],\n",
              "       [0.55518824],\n",
              "       [0.56841094],\n",
              "       [0.56444413],\n",
              "       [0.51287559],\n",
              "       [0.54461008],\n",
              "       [0.53667646],\n",
              "       [0.53138738],\n",
              "       [0.5300651 ],\n",
              "       [0.54844469],\n",
              "       [0.61336813],\n",
              "       [0.59776528],\n",
              "       [0.6239463 ],\n",
              "       [0.66771341],\n",
              "       [0.63452446],\n",
              "       [0.59088954],\n",
              "       [0.62758254],\n",
              "       [0.63637567],\n",
              "       [0.6993157 ],\n",
              "       [0.70196024],\n",
              "       [0.70182805],\n",
              "       [0.73633927],\n",
              "       [0.77468511],\n",
              "       [0.78129646],\n",
              "       [0.75299985],\n",
              "       [0.76807376],\n",
              "       [0.7707183 ],\n",
              "       [0.75809055],\n",
              "       [0.73131458],\n",
              "       [0.74295062],\n",
              "       [0.72695118],\n",
              "       [0.73230628],\n",
              "       [0.73105019],\n",
              "       [0.70592705],\n",
              "       [0.66546562],\n",
              "       [0.64906943],\n",
              "       [0.6636144 ],\n",
              "       [0.67683711],\n",
              "       [0.61568211],\n",
              "       [0.59221181],\n",
              "       [0.588245  ],\n",
              "       [0.59750089],\n",
              "       [0.6095997 ],\n",
              "       [0.616806  ],\n",
              "       [0.60107096],\n",
              "       [0.62255785],\n",
              "       [0.58427819],\n",
              "       [0.56841094],\n",
              "       [0.52477602],\n",
              "       [0.5168424 ],\n",
              "       [0.53376753],\n",
              "       [0.5220653 ],\n",
              "       [0.48735571],\n",
              "       [0.43710944],\n",
              "       [0.490397  ],\n",
              "       [0.49700835],\n",
              "       [0.57898911],\n",
              "       [0.58163365],\n",
              "       [0.57475791],\n",
              "       [0.5750223 ],\n",
              "       [0.5646425 ],\n",
              "       [0.55651051],\n",
              "       [0.61164912],\n",
              "       [0.60940132],\n",
              "       [0.60014543],\n",
              "       [0.5983604 ],\n",
              "       [0.56986541],\n",
              "       [0.61865721],\n",
              "       [0.64444149],\n",
              "       [0.61072359],\n",
              "       [0.59141848],\n",
              "       [0.63650786],\n",
              "       [0.59207961],\n",
              "       [0.59961649],\n",
              "       [0.58956727],\n",
              "       [0.57760066],\n",
              "       [0.53535419],\n",
              "       [0.53495744],\n",
              "       [0.50758651],\n",
              "       [0.53403192],\n",
              "       [0.50229743],\n",
              "       [0.50229743],\n",
              "       [0.51419786],\n",
              "       [0.49727274],\n",
              "       [0.51552013],\n",
              "       [0.48246337],\n",
              "       [0.49568608],\n",
              "       [0.48279394],\n",
              "       [0.51168552],\n",
              "       [0.51948694],\n",
              "       [0.47188521],\n",
              "       [0.4812733 ],\n",
              "       [0.45601797],\n",
              "       [0.4791577 ],\n",
              "       [0.46223257],\n",
              "       [0.44226633],\n",
              "       [0.44279527],\n",
              "       [0.52279262],\n",
              "       [0.48887635],\n",
              "       [0.49436381],\n",
              "       [0.4322171 ],\n",
              "       [0.43618391],\n",
              "       [0.47942209],\n",
              "       [0.36742586],\n",
              "       [0.38725991],\n",
              "       [0.44517542],\n",
              "       [0.44808435],\n",
              "       [0.42408511],\n",
              "       [0.42216788],\n",
              "       [0.40378829],\n",
              "       [0.39321013],\n",
              "       [0.40973851],\n",
              "       [0.40471382],\n",
              "       [0.38084693],\n",
              "       [0.38461537],\n",
              "       [0.40709397],\n",
              "       [0.36174003],\n",
              "       [0.32908002],\n",
              "       [0.32908002],\n",
              "       [0.37449997],\n",
              "       [0.3568477 ],\n",
              "       [0.33701364],\n",
              "       [0.30475021],\n",
              "       [0.3832931 ],\n",
              "       [0.4057717 ],\n",
              "       [0.43605172],\n",
              "       [0.39651581],\n",
              "       [0.43598554],\n",
              "       [0.41370532],\n",
              "       [0.40312716],\n",
              "       [0.43029988],\n",
              "       [0.43254767],\n",
              "       [0.42957256],\n",
              "       [0.44676208],\n",
              "       [0.51089219],\n",
              "       [0.46924067],\n",
              "       [0.48233118],\n",
              "       [0.52470985],\n",
              "       [0.49965289],\n",
              "       [0.4811411 ],\n",
              "       [0.48643019],\n",
              "       [0.68801023],\n",
              "       [0.74314899],\n",
              "       [0.76675149],\n",
              "       [0.69184484],\n",
              "       [0.70460478],\n",
              "       [0.65369738],\n",
              "       [0.64179695],\n",
              "       [0.59088954],\n",
              "       [0.6014677 ],\n",
              "       [0.53535419],\n",
              "       [0.5881128 ],\n",
              "       [0.55181639],\n",
              "       [0.60186445],\n",
              "       [0.5750223 ],\n",
              "       [0.59617862],\n",
              "       [0.60120331],\n",
              "       [0.57237775],\n",
              "       [0.62004566],\n",
              "       [0.6370368 ],\n",
              "       [0.78658554],\n",
              "       [0.88760702],\n",
              "       [0.87649992],\n",
              "       [0.86327722],\n",
              "       [0.881789  ],\n",
              "       [0.91881257],\n",
              "       [0.91087895],\n",
              "       [0.95226608],\n",
              "       [0.93454762],\n",
              "       [0.89897852],\n",
              "       [0.92013484],\n",
              "       [0.90691214],\n",
              "       [0.9808931 ],\n",
              "       [0.96773657],\n",
              "       [0.98928964],\n",
              "       [0.93844825],\n",
              "       [0.98492609],\n",
              "       [0.98856233],\n",
              "       [0.94525798],\n",
              "       [0.94697699],\n",
              "       [0.93216747],\n",
              "       [0.94446465],\n",
              "       [0.92013484],\n",
              "       [0.96905884],\n",
              "       [0.99755383],\n",
              "       [0.99814879],\n",
              "       [0.98479389],\n",
              "       [0.97831474],\n",
              "       [0.95259664],\n",
              "       [0.92542392],\n",
              "       [0.93177089],\n",
              "       [0.93864663],\n",
              "       [0.930713  ],\n",
              "       [0.93864663],\n",
              "       [0.91087895],\n",
              "       [0.93732436],\n",
              "       [0.95881125],\n",
              "       [0.99814879],\n",
              "       [0.95583614],\n",
              "       [0.93864663],\n",
              "       [0.92145711],\n",
              "       [0.96892665],\n",
              "       [0.930713  ],\n",
              "       [0.93157251],\n",
              "       [0.92277938],\n",
              "       [0.96125742],\n",
              "       [1.        ]])"
            ]
          },
          "metadata": {},
          "execution_count": 11
        }
      ]
    },
    {
      "cell_type": "markdown",
      "metadata": {
        "id": "tciefd03n_Ms"
      },
      "source": [
        "### Initialising the rolling window for training "
      ]
    },
    {
      "cell_type": "code",
      "metadata": {
        "id": "aywA32jfl6W1"
      },
      "source": [
        "window_size = 50"
      ],
      "execution_count": null,
      "outputs": []
    },
    {
      "cell_type": "code",
      "metadata": {
        "id": "1T1_z6HFAIIC",
        "colab": {
          "base_uri": "https://localhost:8080/"
        },
        "outputId": "53e251f7-a5e8-40a4-ddf1-03535dba63c2"
      },
      "source": [
        "#creating a data structure with 60 points as inputs and point as output in a rolling fashion\n",
        "X_train = []\n",
        "Y_train = []\n",
        "for i in range (window_size,training_set_scaled.shape[0]):\n",
        "  #0 says the first element --removing the brackets-- 0th column\n",
        "  X_train.append(training_set_scaled[i-window_size:i,0])\n",
        "  Y_train.append(training_set_scaled[i,0])\n",
        "\n",
        "X_train, Y_train = np.array(X_train) , np.array(Y_train)\n",
        "X_train"
      ],
      "execution_count": null,
      "outputs": [
        {
          "output_type": "execute_result",
          "data": {
            "text/plain": [
              "array([[0.        , 0.01960267, 0.03355261, ..., 0.22462067, 0.21470364,\n",
              "        0.19619186],\n",
              "       [0.01960267, 0.03355261, 0.07123731, ..., 0.21470364, 0.19619186,\n",
              "        0.2252818 ],\n",
              "       [0.03355261, 0.07123731, 0.07189845, ..., 0.19619186, 0.2252818 ,\n",
              "        0.26494991],\n",
              "       ...,\n",
              "       [0.5750223 , 0.59617862, 0.60120331, ..., 0.96892665, 0.930713  ,\n",
              "        0.93157251],\n",
              "       [0.59617862, 0.60120331, 0.57237775, ..., 0.930713  , 0.93157251,\n",
              "        0.92277938],\n",
              "       [0.60120331, 0.57237775, 0.62004566, ..., 0.93157251, 0.92277938,\n",
              "        0.96125742]])"
            ]
          },
          "metadata": {},
          "execution_count": 13
        }
      ]
    },
    {
      "cell_type": "code",
      "metadata": {
        "id": "AI_sqWyRB697",
        "colab": {
          "base_uri": "https://localhost:8080/"
        },
        "outputId": "eda4a827-21f5-4e75-eb9c-711856d3134e"
      },
      "source": [
        "#reshape (not used iloc so we need to reshape)\n",
        "X_train = np.reshape(X_train,(X_train.shape[0],X_train.shape[1],1))\n",
        "X_train"
      ],
      "execution_count": null,
      "outputs": [
        {
          "output_type": "execute_result",
          "data": {
            "text/plain": [
              "array([[[0.        ],\n",
              "        [0.01960267],\n",
              "        [0.03355261],\n",
              "        ...,\n",
              "        [0.22462067],\n",
              "        [0.21470364],\n",
              "        [0.19619186]],\n",
              "\n",
              "       [[0.01960267],\n",
              "        [0.03355261],\n",
              "        [0.07123731],\n",
              "        ...,\n",
              "        [0.21470364],\n",
              "        [0.19619186],\n",
              "        [0.2252818 ]],\n",
              "\n",
              "       [[0.03355261],\n",
              "        [0.07123731],\n",
              "        [0.07189845],\n",
              "        ...,\n",
              "        [0.19619186],\n",
              "        [0.2252818 ],\n",
              "        [0.26494991]],\n",
              "\n",
              "       ...,\n",
              "\n",
              "       [[0.5750223 ],\n",
              "        [0.59617862],\n",
              "        [0.60120331],\n",
              "        ...,\n",
              "        [0.96892665],\n",
              "        [0.930713  ],\n",
              "        [0.93157251]],\n",
              "\n",
              "       [[0.59617862],\n",
              "        [0.60120331],\n",
              "        [0.57237775],\n",
              "        ...,\n",
              "        [0.930713  ],\n",
              "        [0.93157251],\n",
              "        [0.92277938]],\n",
              "\n",
              "       [[0.60120331],\n",
              "        [0.57237775],\n",
              "        [0.62004566],\n",
              "        ...,\n",
              "        [0.93157251],\n",
              "        [0.92277938],\n",
              "        [0.96125742]]])"
            ]
          },
          "metadata": {},
          "execution_count": 14
        }
      ]
    },
    {
      "cell_type": "code",
      "metadata": {
        "id": "0bP_hPDsDjdp",
        "colab": {
          "base_uri": "https://localhost:8080/"
        },
        "outputId": "29edd784-489c-4144-c6d9-1e565f32961c"
      },
      "source": [
        "X_train.shape\n",
        "#putting just one value to the model that is why we reshaped the data, as 1198(rows), 60(cols), 1 (only one value)"
      ],
      "execution_count": null,
      "outputs": [
        {
          "output_type": "execute_result",
          "data": {
            "text/plain": [
              "(438, 50, 1)"
            ]
          },
          "metadata": {},
          "execution_count": 15
        }
      ]
    },
    {
      "cell_type": "markdown",
      "metadata": {
        "id": "4ysLCbhhCg0C"
      },
      "source": [
        "# Part 2 - RNN Model"
      ]
    },
    {
      "cell_type": "code",
      "metadata": {
        "id": "H_dfc41ZCmzT"
      },
      "source": [
        "#importing relevant packages\n",
        "from keras.models import Sequential\n",
        "from keras.layers import Dense, LSTM, Dropout, SimpleRNN"
      ],
      "execution_count": null,
      "outputs": []
    },
    {
      "cell_type": "code",
      "source": [
        "#RNN Model\n",
        "rmodel = Sequential()\n",
        "rmodel.add(SimpleRNN(50,activation='tanh',return_sequences = True,input_shape = (X_train.shape[1],1)))\n",
        "rmodel.add(Dropout(0.2))"
      ],
      "metadata": {
        "id": "Q6tM2bIbRgYy"
      },
      "execution_count": null,
      "outputs": []
    },
    {
      "cell_type": "code",
      "source": [
        "rmodel.add(SimpleRNN(50,activation='tanh', return_sequences = True))\n",
        "rmodel.add(Dropout(0.2))"
      ],
      "metadata": {
        "id": "XMfWiURsR434"
      },
      "execution_count": null,
      "outputs": []
    },
    {
      "cell_type": "code",
      "source": [
        "#return sequense changed to false\n",
        "rmodel.add(SimpleRNN(50,activation='tanh',return_sequences = True))\n",
        "rmodel.add(Dropout(0.2))"
      ],
      "metadata": {
        "id": "Ykv6TJKaR7Km"
      },
      "execution_count": null,
      "outputs": []
    },
    {
      "cell_type": "code",
      "source": [
        "#return sequense changed to false\n",
        "rmodel.add(SimpleRNN(50,activation='tanh',return_sequences = False))\n",
        "rmodel.add(Dropout(0.2))"
      ],
      "metadata": {
        "id": "xm1SME_LR-6E"
      },
      "execution_count": null,
      "outputs": []
    },
    {
      "cell_type": "code",
      "source": [
        "rmodel.add(Dense(50,activation='tanh'))\n",
        "rmodel.add(Dropout(0.2))"
      ],
      "metadata": {
        "id": "EhFVIGDfULZ_"
      },
      "execution_count": null,
      "outputs": []
    },
    {
      "cell_type": "code",
      "source": [
        "#Output\n",
        "rmodel.add(Dense(units=1))\n",
        "rmodel.summary()"
      ],
      "metadata": {
        "colab": {
          "base_uri": "https://localhost:8080/"
        },
        "id": "Eq6caGfOSBep",
        "outputId": "1ee7e8bc-2a10-4c7c-b684-cbb1a35be76c"
      },
      "execution_count": null,
      "outputs": [
        {
          "output_type": "stream",
          "name": "stdout",
          "text": [
            "Model: \"sequential\"\n",
            "_________________________________________________________________\n",
            " Layer (type)                Output Shape              Param #   \n",
            "=================================================================\n",
            " simple_rnn (SimpleRNN)      (None, 50, 50)            2600      \n",
            "                                                                 \n",
            " dropout (Dropout)           (None, 50, 50)            0         \n",
            "                                                                 \n",
            " simple_rnn_1 (SimpleRNN)    (None, 50, 50)            5050      \n",
            "                                                                 \n",
            " dropout_1 (Dropout)         (None, 50, 50)            0         \n",
            "                                                                 \n",
            " simple_rnn_2 (SimpleRNN)    (None, 50, 50)            5050      \n",
            "                                                                 \n",
            " dropout_2 (Dropout)         (None, 50, 50)            0         \n",
            "                                                                 \n",
            " simple_rnn_3 (SimpleRNN)    (None, 50)                5050      \n",
            "                                                                 \n",
            " dropout_3 (Dropout)         (None, 50)                0         \n",
            "                                                                 \n",
            " dense (Dense)               (None, 50)                2550      \n",
            "                                                                 \n",
            " dropout_4 (Dropout)         (None, 50)                0         \n",
            "                                                                 \n",
            " dense_1 (Dense)             (None, 1)                 51        \n",
            "                                                                 \n",
            "=================================================================\n",
            "Total params: 20,351\n",
            "Trainable params: 20,351\n",
            "Non-trainable params: 0\n",
            "_________________________________________________________________\n"
          ]
        }
      ]
    },
    {
      "cell_type": "code",
      "source": [
        "rmodel.compile(optimizer = 'Adam', loss = 'mean_squared_error')"
      ],
      "metadata": {
        "id": "gn90LiuoSEFK"
      },
      "execution_count": null,
      "outputs": []
    },
    {
      "cell_type": "code",
      "source": [
        "rmodel.fit(X_train,Y_train,epochs=50,batch_size=32)"
      ],
      "metadata": {
        "colab": {
          "base_uri": "https://localhost:8080/"
        },
        "id": "Bbp86G-cSGya",
        "outputId": "a8e11d5c-1650-4f3c-b275-d39b1c0705f8"
      },
      "execution_count": null,
      "outputs": [
        {
          "output_type": "stream",
          "name": "stdout",
          "text": [
            "Epoch 1/50\n",
            "14/14 [==============================] - 4s 45ms/step - loss: 0.3857\n",
            "Epoch 2/50\n",
            "14/14 [==============================] - 1s 44ms/step - loss: 0.2963\n",
            "Epoch 3/50\n",
            "14/14 [==============================] - 1s 47ms/step - loss: 0.2310\n",
            "Epoch 4/50\n",
            "14/14 [==============================] - 1s 45ms/step - loss: 0.2002\n",
            "Epoch 5/50\n",
            "14/14 [==============================] - 1s 43ms/step - loss: 0.1854\n",
            "Epoch 6/50\n",
            "14/14 [==============================] - 1s 44ms/step - loss: 0.1677\n",
            "Epoch 7/50\n",
            "14/14 [==============================] - 1s 43ms/step - loss: 0.1506\n",
            "Epoch 8/50\n",
            "14/14 [==============================] - 1s 46ms/step - loss: 0.1122\n",
            "Epoch 9/50\n",
            "14/14 [==============================] - 1s 50ms/step - loss: 0.1030\n",
            "Epoch 10/50\n",
            "14/14 [==============================] - 1s 44ms/step - loss: 0.1000\n",
            "Epoch 11/50\n",
            "14/14 [==============================] - 1s 43ms/step - loss: 0.0982\n",
            "Epoch 12/50\n",
            "14/14 [==============================] - 1s 43ms/step - loss: 0.0987\n",
            "Epoch 13/50\n",
            "14/14 [==============================] - 1s 43ms/step - loss: 0.0941\n",
            "Epoch 14/50\n",
            "14/14 [==============================] - 1s 43ms/step - loss: 0.0923\n",
            "Epoch 15/50\n",
            "14/14 [==============================] - 1s 42ms/step - loss: 0.0819\n",
            "Epoch 16/50\n",
            "14/14 [==============================] - 1s 43ms/step - loss: 0.0958\n",
            "Epoch 17/50\n",
            "14/14 [==============================] - 1s 42ms/step - loss: 0.0747\n",
            "Epoch 18/50\n",
            "14/14 [==============================] - 1s 45ms/step - loss: 0.0800\n",
            "Epoch 19/50\n",
            "14/14 [==============================] - 1s 48ms/step - loss: 0.0821\n",
            "Epoch 20/50\n",
            "14/14 [==============================] - 1s 42ms/step - loss: 0.0751\n",
            "Epoch 21/50\n",
            "14/14 [==============================] - 1s 43ms/step - loss: 0.0679\n",
            "Epoch 22/50\n",
            "14/14 [==============================] - 1s 43ms/step - loss: 0.0618\n",
            "Epoch 23/50\n",
            "14/14 [==============================] - 1s 43ms/step - loss: 0.0633\n",
            "Epoch 24/50\n",
            "14/14 [==============================] - 1s 43ms/step - loss: 0.0591\n",
            "Epoch 25/50\n",
            "14/14 [==============================] - 1s 52ms/step - loss: 0.0591\n",
            "Epoch 26/50\n",
            "14/14 [==============================] - 1s 44ms/step - loss: 0.0575\n",
            "Epoch 27/50\n",
            "14/14 [==============================] - 1s 46ms/step - loss: 0.0531\n",
            "Epoch 28/50\n",
            "14/14 [==============================] - 1s 43ms/step - loss: 0.0527\n",
            "Epoch 29/50\n",
            "14/14 [==============================] - 1s 45ms/step - loss: 0.0456\n",
            "Epoch 30/50\n",
            "14/14 [==============================] - 1s 47ms/step - loss: 0.0490\n",
            "Epoch 31/50\n",
            "14/14 [==============================] - 1s 43ms/step - loss: 0.0443\n",
            "Epoch 32/50\n",
            "14/14 [==============================] - 1s 42ms/step - loss: 0.0405\n",
            "Epoch 33/50\n",
            "14/14 [==============================] - 1s 44ms/step - loss: 0.0467\n",
            "Epoch 34/50\n",
            "14/14 [==============================] - 1s 47ms/step - loss: 0.0416\n",
            "Epoch 35/50\n",
            "14/14 [==============================] - 1s 42ms/step - loss: 0.0378\n",
            "Epoch 36/50\n",
            "14/14 [==============================] - 1s 44ms/step - loss: 0.0413\n",
            "Epoch 37/50\n",
            "14/14 [==============================] - 1s 44ms/step - loss: 0.0414\n",
            "Epoch 38/50\n",
            "14/14 [==============================] - 1s 43ms/step - loss: 0.0385\n",
            "Epoch 39/50\n",
            "14/14 [==============================] - 1s 44ms/step - loss: 0.0368\n",
            "Epoch 40/50\n",
            "14/14 [==============================] - 1s 43ms/step - loss: 0.0363\n",
            "Epoch 41/50\n",
            "14/14 [==============================] - 1s 44ms/step - loss: 0.0320\n",
            "Epoch 42/50\n",
            "14/14 [==============================] - 1s 45ms/step - loss: 0.0353\n",
            "Epoch 43/50\n",
            "14/14 [==============================] - 1s 42ms/step - loss: 0.0316\n",
            "Epoch 44/50\n",
            "14/14 [==============================] - 1s 46ms/step - loss: 0.0320\n",
            "Epoch 45/50\n",
            "14/14 [==============================] - 1s 44ms/step - loss: 0.0270\n",
            "Epoch 46/50\n",
            "14/14 [==============================] - 1s 46ms/step - loss: 0.0258\n",
            "Epoch 47/50\n",
            "14/14 [==============================] - 1s 43ms/step - loss: 0.0307\n",
            "Epoch 48/50\n",
            "14/14 [==============================] - 1s 44ms/step - loss: 0.0290\n",
            "Epoch 49/50\n",
            "14/14 [==============================] - 1s 45ms/step - loss: 0.0258\n",
            "Epoch 50/50\n",
            "14/14 [==============================] - 1s 44ms/step - loss: 0.0234\n"
          ]
        },
        {
          "output_type": "execute_result",
          "data": {
            "text/plain": [
              "<keras.callbacks.History at 0x7ff8df8c1b90>"
            ]
          },
          "metadata": {},
          "execution_count": 22
        }
      ]
    },
    {
      "cell_type": "markdown",
      "source": [
        "### **Predicting the stock prices of test data1 JAN-MAR 2020**"
      ],
      "metadata": {
        "id": "Wm-h0N3hSr2N"
      }
    },
    {
      "cell_type": "code",
      "source": [
        "real_stock_values1.shape"
      ],
      "metadata": {
        "colab": {
          "base_uri": "https://localhost:8080/"
        },
        "id": "qq_V4GCXSuzm",
        "outputId": "ed140b2d-a742-4457-e6da-faa5772cde3c"
      },
      "execution_count": null,
      "outputs": [
        {
          "output_type": "execute_result",
          "data": {
            "text/plain": [
              "(62, 1)"
            ]
          },
          "metadata": {},
          "execution_count": 23
        }
      ]
    },
    {
      "cell_type": "code",
      "source": [
        "#get the predicted for the test data that is 2017 jan\n",
        "dataset_total = pd.concat((data_train['Open'],dataset_test1['Open']),axis = 0)\n",
        "inputs = dataset_total[len(dataset_total)- len(dataset_test1)-window_size:].values\n",
        "inputs = inputs.reshape(-1,1)\n",
        "inputs = sc.transform(inputs)\n",
        "X_test1 = []\n",
        "upper_limit = window_size + real_stock_values1.shape[0]\n",
        "for i in range(window_size,upper_limit):\n",
        "  X_test1.append(inputs[i-window_size:i,0])\n",
        "\n",
        "X_test1 = np.array(X_test1)\n",
        "X_test1 = np.reshape(X_test1,(X_test1.shape[0], X_test1.shape[1],1))\n",
        "predicted_stock_price1 = rmodel.predict(X_test1)\n",
        "predicted_stock_price1 = sc.inverse_transform(predicted_stock_price1)"
      ],
      "metadata": {
        "id": "yFmvnMm9SxgE"
      },
      "execution_count": null,
      "outputs": []
    },
    {
      "cell_type": "code",
      "source": [
        "predicted_stock_price1.shape"
      ],
      "metadata": {
        "colab": {
          "base_uri": "https://localhost:8080/"
        },
        "id": "TKbFpLEpS05g",
        "outputId": "0793ba9a-f8db-405b-9f7e-185dfcdfe047"
      },
      "execution_count": null,
      "outputs": [
        {
          "output_type": "execute_result",
          "data": {
            "text/plain": [
              "(62, 1)"
            ]
          },
          "metadata": {},
          "execution_count": 25
        }
      ]
    },
    {
      "cell_type": "code",
      "source": [
        "#visualize the predictions and see where our model stands and how far off we are\n",
        "plt.plot(real_stock_values1,color = 'red', label = 'real Jubilant Foodworks stock price')\n",
        "plt.plot(predicted_stock_price1,color = 'blue', label = 'predicted Jubilant Foodworks stock price')\n",
        "plt.title(\"Jubilant Foodworks Stock Price Prediction\")\n",
        "plt.xlabel(\"time\")\n",
        "plt.ylabel('Jubilant Foodworks Stock price')\n",
        "plt.legend()\n",
        "plt.show()"
      ],
      "metadata": {
        "colab": {
          "base_uri": "https://localhost:8080/",
          "height": 295
        },
        "id": "QZcHmzerS3tn",
        "outputId": "f300b1cb-052c-43ac-c5b5-d48695b0723b"
      },
      "execution_count": null,
      "outputs": [
        {
          "output_type": "display_data",
          "data": {
            "image/png": "[encoded data removed]",
            "text/plain": [
              "<Figure size 432x288 with 1 Axes>"
            ]
          },
          "metadata": {
            "needs_background": "light"
          }
        }
      ]
    },
    {
      "cell_type": "code",
      "source": [
        "import math\n",
        "from sklearn.metrics import mean_squared_error\n",
        "rmse1 = math.sqrt(mean_squared_error(real_stock_values1, predicted_stock_price1))\n",
        "print(\"Total model error is - \", rmse1)"
      ],
      "metadata": {
        "colab": {
          "base_uri": "https://localhost:8080/"
        },
        "id": "6Ug71aBhS6TT",
        "outputId": "4b95abff-33ac-416f-dab9-a4850914dba8"
      },
      "execution_count": null,
      "outputs": [
        {
          "output_type": "stream",
          "name": "stdout",
          "text": [
            "Total model error is -  154.56550502221307\n"
          ]
        }
      ]
    },
    {
      "cell_type": "markdown",
      "source": [
        "###**Predicting the stock prices on test2 data APR-JUN 2020**"
      ],
      "metadata": {
        "id": "xYVo51_8TAaE"
      }
    },
    {
      "cell_type": "code",
      "source": [
        "real_stock_values2.shape"
      ],
      "metadata": {
        "colab": {
          "base_uri": "https://localhost:8080/"
        },
        "id": "2rtY4rqsS9BY",
        "outputId": "c7448e40-51d4-43cb-f3c0-a9becad12acb"
      },
      "execution_count": null,
      "outputs": [
        {
          "output_type": "execute_result",
          "data": {
            "text/plain": [
              "(58, 1)"
            ]
          },
          "metadata": {},
          "execution_count": 28
        }
      ]
    },
    {
      "cell_type": "code",
      "source": [
        "#get the predicted for the etst data that is 2017 jan\n",
        "dataset_total = pd.concat((data_train['Open'],dataset_test1['Open'],dataset_test2['Open']),axis = 0)\n",
        "inputs = dataset_total[len(dataset_total)- len(dataset_test1)-len(dataset_test2)-window_size:].values\n",
        "inputs = inputs.reshape(-1,1)\n",
        "inputs = sc.transform(inputs)\n",
        "X_test2 = []\n",
        "upper_limit = window_size + real_stock_values2.shape[0]\n",
        "for i in range(window_size,upper_limit):\n",
        "  X_test2.append(inputs[i-window_size:i,0])\n",
        "\n",
        "X_test2 = np.array(X_test2)\n",
        "X_test2 = np.reshape(X_test2,(X_test2.shape[0], X_test2.shape[1],1))\n",
        "predicted_stock_price2 = rmodel.predict(X_test2)\n",
        "predicted_stock_price2 = sc.inverse_transform(predicted_stock_price2)"
      ],
      "metadata": {
        "id": "3TB5LT25TFNP"
      },
      "execution_count": null,
      "outputs": []
    },
    {
      "cell_type": "code",
      "source": [
        "predicted_stock_price2.shape"
      ],
      "metadata": {
        "colab": {
          "base_uri": "https://localhost:8080/"
        },
        "id": "0FdYOUqETKfQ",
        "outputId": "0e09a07c-90ee-49c8-a760-c3a2ed895959"
      },
      "execution_count": null,
      "outputs": [
        {
          "output_type": "execute_result",
          "data": {
            "text/plain": [
              "(58, 1)"
            ]
          },
          "metadata": {},
          "execution_count": 30
        }
      ]
    },
    {
      "cell_type": "code",
      "source": [
        "#visualize the predictions and see where our model stands and how far off we are\n",
        "plt.plot(real_stock_values2,color = 'red', label = 'real Jubilant Foodworks stock price')\n",
        "plt.plot(predicted_stock_price2,color = 'blue', label = 'predicted Jubilant Foodworks stock price')\n",
        "plt.title(\"Jubilant Foodworks Stock Price Prediction\")\n",
        "plt.xlabel(\"time\")\n",
        "plt.ylabel('Jubilant Foodworks Stock price')\n",
        "plt.legend()\n",
        "plt.show()"
      ],
      "metadata": {
        "colab": {
          "base_uri": "https://localhost:8080/",
          "height": 295
        },
        "id": "u3VPt-O1TNOb",
        "outputId": "618bc003-6065-4109-a341-7856c59940c1"
      },
      "execution_count": null,
      "outputs": [
        {
          "output_type": "display_data",
          "data": {
            "image/png": "[encoded data removed]",
            "text/plain": [
              "<Figure size 432x288 with 1 Axes>"
            ]
          },
          "metadata": {
            "needs_background": "light"
          }
        }
      ]
    },
    {
      "cell_type": "code",
      "source": [
        "import math\n",
        "from sklearn.metrics import mean_squared_error\n",
        "rmse2 = math.sqrt(mean_squared_error(real_stock_values2, predicted_stock_price2))\n",
        "print(\"Total model error is - \", rmse2)"
      ],
      "metadata": {
        "colab": {
          "base_uri": "https://localhost:8080/"
        },
        "id": "yR0z-ts7TQR_",
        "outputId": "2aab683f-b020-427c-d481-f3bba06ad34b"
      },
      "execution_count": null,
      "outputs": [
        {
          "output_type": "stream",
          "name": "stdout",
          "text": [
            "Total model error is -  159.07227355757843\n"
          ]
        }
      ]
    },
    {
      "cell_type": "markdown",
      "source": [
        "epochs 100\n",
        "test1 --177\n",
        "test2 155\n",
        "\n",
        "epochs 50\n",
        "test1 154\n",
        "test2 159"
      ],
      "metadata": {
        "id": "0oQeYwKKJbrH"
      }
    },
    {
      "cell_type": "markdown",
      "source": [
        "# Part 3 - LSTM Model"
      ],
      "metadata": {
        "id": "PjMaN5xKQS0y"
      }
    },
    {
      "cell_type": "code",
      "metadata": {
        "id": "MYT2TZRjFB9s"
      },
      "source": [
        "#initialise RNN\n",
        "regressor = Sequential()"
      ],
      "execution_count": null,
      "outputs": []
    },
    {
      "cell_type": "code",
      "metadata": {
        "id": "0BKXUDJFFKSS"
      },
      "source": [
        "#add dense when you add output layer\n",
        "#add first lstm layer\n",
        "regressor.add(LSTM(units = 50, return_sequences = True, input_shape = (X_train.shape[1],1)))\n",
        "regressor.add(Dropout(0.2))"
      ],
      "execution_count": null,
      "outputs": []
    },
    {
      "cell_type": "code",
      "metadata": {
        "id": "YGdzYMURFy65"
      },
      "source": [
        "#adding second LSTM layer\n",
        "regressor.add(LSTM(units = 50, return_sequences= True))\n",
        "regressor.add(Dropout(0.2))"
      ],
      "execution_count": null,
      "outputs": []
    },
    {
      "cell_type": "code",
      "metadata": {
        "id": "PH9UpOOgGAaa"
      },
      "source": [
        "#adding the third layer\n",
        "regressor.add(LSTM(units = 50, return_sequences= True))\n",
        "regressor.add(Dropout(0.2))"
      ],
      "execution_count": null,
      "outputs": []
    },
    {
      "cell_type": "code",
      "metadata": {
        "id": "BcxNF5yOGKne"
      },
      "source": [
        "#adding fourth LSTM layer\n",
        "#last layer would not have return sequence of errors\n",
        "regressor.add(LSTM(units = 50,return_sequences= True))\n",
        "regressor.add(Dropout(0.2))"
      ],
      "execution_count": null,
      "outputs": []
    },
    {
      "cell_type": "code",
      "metadata": {
        "id": "Bx4DDLB8m1rg"
      },
      "source": [
        "#adding fifth LSTM layer\n",
        "#adding second LSTM layer\n",
        "regressor.add(LSTM(units = 50))\n",
        "regressor.add(Dropout(0.2))"
      ],
      "execution_count": null,
      "outputs": []
    },
    {
      "cell_type": "code",
      "metadata": {
        "id": "wum0MPyGULkU"
      },
      "source": [
        "#output dense layer\n",
        "regressor.add(Dense(units = 1))"
      ],
      "execution_count": null,
      "outputs": []
    },
    {
      "cell_type": "code",
      "metadata": {
        "id": "HDdmeZ3oGees"
      },
      "source": [
        "#compiling rnn\n",
        "regressor.compile(optimizer='adam',loss = 'mean_squared_error')"
      ],
      "execution_count": null,
      "outputs": []
    },
    {
      "cell_type": "code",
      "metadata": {
        "id": "J2YeybOMGu4E",
        "colab": {
          "base_uri": "https://localhost:8080/"
        },
        "outputId": "c8af1594-3569-4bb1-91e9-6316f313777c"
      },
      "source": [
        "regressor.fit(X_train,Y_train, epochs = 75, batch_size = 32)"
      ],
      "execution_count": null,
      "outputs": [
        {
          "output_type": "stream",
          "name": "stdout",
          "text": [
            "Epoch 1/75\n",
            "14/14 [==============================] - 10s 123ms/step - loss: 0.1198\n",
            "Epoch 2/75\n",
            "14/14 [==============================] - 2s 127ms/step - loss: 0.0351\n",
            "Epoch 3/75\n",
            "14/14 [==============================] - 2s 123ms/step - loss: 0.0273\n",
            "Epoch 4/75\n",
            "14/14 [==============================] - 2s 122ms/step - loss: 0.0229\n",
            "Epoch 5/75\n",
            "14/14 [==============================] - 2s 123ms/step - loss: 0.0228\n",
            "Epoch 6/75\n",
            "14/14 [==============================] - 2s 122ms/step - loss: 0.0183\n",
            "Epoch 7/75\n",
            "14/14 [==============================] - 2s 126ms/step - loss: 0.0160\n",
            "Epoch 8/75\n",
            "14/14 [==============================] - 2s 124ms/step - loss: 0.0161\n",
            "Epoch 9/75\n",
            "14/14 [==============================] - 2s 122ms/step - loss: 0.0170\n",
            "Epoch 10/75\n",
            "14/14 [==============================] - 2s 122ms/step - loss: 0.0167\n",
            "Epoch 11/75\n",
            "14/14 [==============================] - 2s 126ms/step - loss: 0.0139\n",
            "Epoch 12/75\n",
            "14/14 [==============================] - 2s 125ms/step - loss: 0.0135\n",
            "Epoch 13/75\n",
            "14/14 [==============================] - 2s 121ms/step - loss: 0.0150\n",
            "Epoch 14/75\n",
            "14/14 [==============================] - 2s 122ms/step - loss: 0.0136\n",
            "Epoch 15/75\n",
            "14/14 [==============================] - 2s 130ms/step - loss: 0.0124\n",
            "Epoch 16/75\n",
            "14/14 [==============================] - 2s 125ms/step - loss: 0.0119\n",
            "Epoch 17/75\n",
            "14/14 [==============================] - 2s 133ms/step - loss: 0.0145\n",
            "Epoch 18/75\n",
            "14/14 [==============================] - 2s 125ms/step - loss: 0.0159\n",
            "Epoch 19/75\n",
            "14/14 [==============================] - 2s 122ms/step - loss: 0.0126\n",
            "Epoch 20/75\n",
            "14/14 [==============================] - 2s 122ms/step - loss: 0.0115\n",
            "Epoch 21/75\n",
            "14/14 [==============================] - 2s 125ms/step - loss: 0.0116\n",
            "Epoch 22/75\n",
            "14/14 [==============================] - 2s 123ms/step - loss: 0.0115\n",
            "Epoch 23/75\n",
            "14/14 [==============================] - 2s 123ms/step - loss: 0.0109\n",
            "Epoch 24/75\n",
            "14/14 [==============================] - 2s 123ms/step - loss: 0.0106\n",
            "Epoch 25/75\n",
            "14/14 [==============================] - 2s 127ms/step - loss: 0.0102\n",
            "Epoch 26/75\n",
            "14/14 [==============================] - 2s 122ms/step - loss: 0.0105\n",
            "Epoch 27/75\n",
            "14/14 [==============================] - 2s 122ms/step - loss: 0.0103\n",
            "Epoch 28/75\n",
            "14/14 [==============================] - 2s 125ms/step - loss: 0.0100\n",
            "Epoch 29/75\n",
            "14/14 [==============================] - 2s 124ms/step - loss: 0.0102\n",
            "Epoch 30/75\n",
            "14/14 [==============================] - 2s 123ms/step - loss: 0.0108\n",
            "Epoch 31/75\n",
            "14/14 [==============================] - 2s 126ms/step - loss: 0.0110\n",
            "Epoch 32/75\n",
            "14/14 [==============================] - 2s 125ms/step - loss: 0.0103\n",
            "Epoch 33/75\n",
            "14/14 [==============================] - 2s 127ms/step - loss: 0.0092\n",
            "Epoch 34/75\n",
            "14/14 [==============================] - 2s 124ms/step - loss: 0.0097\n",
            "Epoch 35/75\n",
            "14/14 [==============================] - 2s 124ms/step - loss: 0.0096\n",
            "Epoch 36/75\n",
            "14/14 [==============================] - 2s 123ms/step - loss: 0.0097\n",
            "Epoch 37/75\n",
            "14/14 [==============================] - 3s 199ms/step - loss: 0.0083\n",
            "Epoch 38/75\n",
            "14/14 [==============================] - 2s 169ms/step - loss: 0.0097\n",
            "Epoch 39/75\n",
            "14/14 [==============================] - 2s 124ms/step - loss: 0.0089\n",
            "Epoch 40/75\n",
            "14/14 [==============================] - 2s 123ms/step - loss: 0.0101\n",
            "Epoch 41/75\n",
            "14/14 [==============================] - 2s 124ms/step - loss: 0.0087\n",
            "Epoch 42/75\n",
            "14/14 [==============================] - 2s 125ms/step - loss: 0.0091\n",
            "Epoch 43/75\n",
            "14/14 [==============================] - 2s 125ms/step - loss: 0.0084\n",
            "Epoch 44/75\n",
            "14/14 [==============================] - 2s 122ms/step - loss: 0.0093\n",
            "Epoch 45/75\n",
            "14/14 [==============================] - 2s 125ms/step - loss: 0.0086\n",
            "Epoch 46/75\n",
            "14/14 [==============================] - 2s 124ms/step - loss: 0.0084\n",
            "Epoch 47/75\n",
            "14/14 [==============================] - 2s 124ms/step - loss: 0.0081\n",
            "Epoch 48/75\n",
            "14/14 [==============================] - 2s 123ms/step - loss: 0.0094\n",
            "Epoch 49/75\n",
            "14/14 [==============================] - 2s 123ms/step - loss: 0.0081\n",
            "Epoch 50/75\n",
            "14/14 [==============================] - 2s 124ms/step - loss: 0.0083\n",
            "Epoch 51/75\n",
            "14/14 [==============================] - 2s 124ms/step - loss: 0.0084\n",
            "Epoch 52/75\n",
            "14/14 [==============================] - 2s 169ms/step - loss: 0.0079\n",
            "Epoch 53/75\n",
            "14/14 [==============================] - 2s 124ms/step - loss: 0.0076\n",
            "Epoch 54/75\n",
            "14/14 [==============================] - 2s 125ms/step - loss: 0.0085\n",
            "Epoch 55/75\n",
            "14/14 [==============================] - 2s 122ms/step - loss: 0.0068\n",
            "Epoch 56/75\n",
            "14/14 [==============================] - 2s 125ms/step - loss: 0.0077\n",
            "Epoch 57/75\n",
            "14/14 [==============================] - 2s 124ms/step - loss: 0.0086\n",
            "Epoch 58/75\n",
            "14/14 [==============================] - 2s 122ms/step - loss: 0.0084\n",
            "Epoch 59/75\n",
            "14/14 [==============================] - 2s 123ms/step - loss: 0.0078\n",
            "Epoch 60/75\n",
            "14/14 [==============================] - 2s 124ms/step - loss: 0.0084\n",
            "Epoch 61/75\n",
            "14/14 [==============================] - 2s 122ms/step - loss: 0.0077\n",
            "Epoch 62/75\n",
            "14/14 [==============================] - 2s 121ms/step - loss: 0.0078\n",
            "Epoch 63/75\n",
            "14/14 [==============================] - 2s 122ms/step - loss: 0.0076\n",
            "Epoch 64/75\n",
            "14/14 [==============================] - 2s 124ms/step - loss: 0.0084\n",
            "Epoch 65/75\n",
            "14/14 [==============================] - 2s 122ms/step - loss: 0.0071\n",
            "Epoch 66/75\n",
            "14/14 [==============================] - 2s 124ms/step - loss: 0.0079\n",
            "Epoch 67/75\n",
            "14/14 [==============================] - 2s 126ms/step - loss: 0.0070\n",
            "Epoch 68/75\n",
            "14/14 [==============================] - 2s 123ms/step - loss: 0.0070\n",
            "Epoch 69/75\n",
            "14/14 [==============================] - 2s 123ms/step - loss: 0.0074\n",
            "Epoch 70/75\n",
            "14/14 [==============================] - 2s 123ms/step - loss: 0.0072\n",
            "Epoch 71/75\n",
            "14/14 [==============================] - 2s 123ms/step - loss: 0.0070\n",
            "Epoch 72/75\n",
            "14/14 [==============================] - 2s 122ms/step - loss: 0.0069\n",
            "Epoch 73/75\n",
            "14/14 [==============================] - 2s 123ms/step - loss: 0.0085\n",
            "Epoch 74/75\n",
            "14/14 [==============================] - 2s 123ms/step - loss: 0.0064\n",
            "Epoch 75/75\n",
            "14/14 [==============================] - 2s 123ms/step - loss: 0.0069\n"
          ]
        },
        {
          "output_type": "execute_result",
          "data": {
            "text/plain": [
              "<keras.callbacks.History at 0x7ff8dc133710>"
            ]
          },
          "metadata": {},
          "execution_count": 60
        }
      ]
    },
    {
      "cell_type": "markdown",
      "metadata": {
        "id": "rYCRSQd1LGuy"
      },
      "source": [
        "###  **Predicting the stock prices on the test data1 JAN-MAR 2020**"
      ]
    },
    {
      "cell_type": "code",
      "metadata": {
        "id": "lGsJt6Lbf0jk",
        "colab": {
          "base_uri": "https://localhost:8080/"
        },
        "outputId": "ffa8de5f-d4fb-45e6-c77b-b0db082a0a60"
      },
      "source": [
        "real_stock_values1.shape"
      ],
      "execution_count": null,
      "outputs": [
        {
          "output_type": "execute_result",
          "data": {
            "text/plain": [
              "(62, 1)"
            ]
          },
          "metadata": {},
          "execution_count": 61
        }
      ]
    },
    {
      "cell_type": "code",
      "metadata": {
        "id": "nLSf6ncXLmrB"
      },
      "source": [
        "#get the predicted for the etst data that is 2017 jan\n",
        "dataset_total = pd.concat((data_train['Open'],dataset_test1['Open']),axis = 0)\n",
        "inputs = dataset_total[len(dataset_total)- len(dataset_test1)-window_size:].values\n",
        "inputs = inputs.reshape(-1,1)\n",
        "inputs = sc.transform(inputs)\n",
        "X_test1 = []\n",
        "upper_limit = window_size + real_stock_values1.shape[0]\n",
        "for i in range(window_size,upper_limit):\n",
        "  X_test1.append(inputs[i-window_size:i,0])\n",
        "\n",
        "X_test1 = np.array(X_test1)\n",
        "X_test1 = np.reshape(X_test1,(X_test1.shape[0], X_test1.shape[1],1))\n",
        "predicted_stock_price1 = regressor.predict(X_test1)\n",
        "predicted_stock_price1 = sc.inverse_transform(predicted_stock_price1)"
      ],
      "execution_count": null,
      "outputs": []
    },
    {
      "cell_type": "code",
      "metadata": {
        "id": "Fxdkb_JaSUdw",
        "colab": {
          "base_uri": "https://localhost:8080/"
        },
        "outputId": "34b36a00-9eb2-42e3-e1ff-41df2fec7511"
      },
      "source": [
        "predicted_stock_price1.shape"
      ],
      "execution_count": null,
      "outputs": [
        {
          "output_type": "execute_result",
          "data": {
            "text/plain": [
              "(62, 1)"
            ]
          },
          "metadata": {},
          "execution_count": 63
        }
      ]
    },
    {
      "cell_type": "code",
      "metadata": {
        "id": "PT3wTITYOIiD",
        "colab": {
          "base_uri": "https://localhost:8080/"
        },
        "outputId": "f82443ba-f31e-478c-addd-189f1d518fb1"
      },
      "source": [
        "#visualize the predictions and see where our model stands and how far off we are\n",
        "plt.plot(real_stock_values1,color = 'red', label = 'real Jubilant Foodworks stock price')\n",
        "plt.plot(predicted_stock_price1,color = 'blue', label = 'predicted Jubilant Foodworks stock price')\n",
        "plt.title(\"Jubilant Foodworks Stock Price Prediction\")\n",
        "plt.xlabel(\"time\")\n",
        "plt.ylabel('Jubilant Foodworks Stock price')\n",
        "plt.legend()\n",
        "plt.show()"
      ],
      "execution_count": null,
      "outputs": [
        {
          "output_type": "display_data",
          "data": {
            "image/png": "[encoded data removed]",
            "text/plain": [
              "<Figure size 432x288 with 1 Axes>"
            ]
          },
          "metadata": {
            "needs_background": "light"
          }
        }
      ]
    },
    {
      "cell_type": "code",
      "metadata": {
        "id": "eNlW1VmhB2J0",
        "colab": {
          "base_uri": "https://localhost:8080/"
        },
        "outputId": "9c7ee472-63fb-4d40-f38c-a9484c66b7a6"
      },
      "source": [
        "import math\n",
        "from sklearn.metrics import mean_squared_error\n",
        "rmse1 = math.sqrt(mean_squared_error(real_stock_values1, predicted_stock_price1))\n",
        "print(\"Total model error is - \", rmse1)"
      ],
      "execution_count": null,
      "outputs": [
        {
          "output_type": "stream",
          "name": "stdout",
          "text": [
            "Total model error is -  118.990135967807\n"
          ]
        }
      ]
    },
    {
      "cell_type": "markdown",
      "metadata": {
        "id": "C5loP_eneNDm"
      },
      "source": [
        "###**Predicting the stock prices on the test data2 APR-JUN 2020** "
      ]
    },
    {
      "cell_type": "code",
      "metadata": {
        "colab": {
          "base_uri": "https://localhost:8080/"
        },
        "id": "F6jP-khHeYrk",
        "outputId": "68802695-79ee-4e73-8cdb-d30bba4189d3"
      },
      "source": [
        "real_stock_values2.shape"
      ],
      "execution_count": null,
      "outputs": [
        {
          "output_type": "execute_result",
          "data": {
            "text/plain": [
              "(58, 1)"
            ]
          },
          "metadata": {},
          "execution_count": 66
        }
      ]
    },
    {
      "cell_type": "code",
      "metadata": {
        "id": "76vKL3IPebxF"
      },
      "source": [
        "#get the predicted for the etst data that is 2017 jan\n",
        "dataset_total = pd.concat((data_train['Open'],dataset_test1['Open'],dataset_test2['Open']),axis = 0)\n",
        "inputs = dataset_total[len(dataset_total)- len(dataset_test1)-len(dataset_test2)-window_size:].values\n",
        "inputs = inputs.reshape(-1,1)\n",
        "inputs = sc.transform(inputs)\n",
        "X_test2 = []\n",
        "upper_limit = window_size + real_stock_values2.shape[0]\n",
        "for i in range(window_size,upper_limit):\n",
        "  X_test2.append(inputs[i-window_size:i,0])\n",
        "\n",
        "X_test2 = np.array(X_test2)\n",
        "X_test2 = np.reshape(X_test2,(X_test2.shape[0], X_test2.shape[1],1))\n",
        "predicted_stock_price2 = regressor.predict(X_test2)\n",
        "predicted_stock_price2 = sc.inverse_transform(predicted_stock_price2)"
      ],
      "execution_count": null,
      "outputs": []
    },
    {
      "cell_type": "code",
      "metadata": {
        "id": "JGT1pRerebr5",
        "colab": {
          "base_uri": "https://localhost:8080/"
        },
        "outputId": "bf4cf0f7-ff17-4f39-cc9a-9f8d8776e94d"
      },
      "source": [
        "predicted_stock_price2.shape"
      ],
      "execution_count": null,
      "outputs": [
        {
          "output_type": "execute_result",
          "data": {
            "text/plain": [
              "(58, 1)"
            ]
          },
          "metadata": {},
          "execution_count": 68
        }
      ]
    },
    {
      "cell_type": "code",
      "metadata": {
        "id": "_xlW8WyvegAL",
        "colab": {
          "base_uri": "https://localhost:8080/"
        },
        "outputId": "f9a74e9b-20e9-4858-954f-5f85df1eb11a"
      },
      "source": [
        "#visualize the predictions and see where our model stands and how far off we are\n",
        "plt.plot(real_stock_values2,color = 'red', label = 'real Jubilant Foodworks stock price')\n",
        "plt.plot(predicted_stock_price2,color = 'blue', label = 'predicted Jubilant Foodworks stock price')\n",
        "plt.title(\"Jubilant Foodworks Stock Price Prediction\")\n",
        "plt.xlabel(\"time\")\n",
        "plt.ylabel('Jubilant Foodworks Stock price')\n",
        "plt.legend()\n",
        "plt.show()"
      ],
      "execution_count": null,
      "outputs": [
        {
          "output_type": "display_data",
          "data": {
            "image/png": "[encoded data removed]",
            "text/plain": [
              "<Figure size 432x288 with 1 Axes>"
            ]
          },
          "metadata": {
            "needs_background": "light"
          }
        }
      ]
    },
    {
      "cell_type": "code",
      "metadata": {
        "id": "LqAlH5qUebg4",
        "colab": {
          "base_uri": "https://localhost:8080/"
        },
        "outputId": "76c75ab5-9718-42fe-a194-64c281a1ee4e"
      },
      "source": [
        "import math\n",
        "from sklearn.metrics import mean_squared_error\n",
        "rmse2 = math.sqrt(mean_squared_error(real_stock_values2, predicted_stock_price2))\n",
        "print(\"Total model error is - \", rmse2)"
      ],
      "execution_count": null,
      "outputs": [
        {
          "output_type": "stream",
          "name": "stdout",
          "text": [
            "Total model error is -  273.6790481120225\n"
          ]
        }
      ]
    },
    {
      "cell_type": "markdown",
      "source": [
        "epochs 100\n",
        "test1 --79\n",
        "test2-- 227"
      ],
      "metadata": {
        "id": "kv3OIRjANNeW"
      }
    },
    {
      "cell_type": "markdown",
      "metadata": {
        "id": "1GRH8Vq1l1rK"
      },
      "source": [
        "60 - 110  <br>\n",
        "50 - 113 <br>\n",
        "50 - epochs 100 layer 5 added - - 76\n"
      ]
    }
  ]
}